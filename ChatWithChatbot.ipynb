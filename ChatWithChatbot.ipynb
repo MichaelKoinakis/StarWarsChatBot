{
  "nbformat": 4,
  "nbformat_minor": 0,
  "metadata": {
    "colab": {
      "name": "ChatWithChatbot.ipynb",
      "provenance": [],
      "collapsed_sections": [],
      "authorship_tag": "ABX9TyP5O7Kn/f1PjAohCyhAAN8g",
      "include_colab_link": true
    },
    "kernelspec": {
      "name": "python3",
      "display_name": "Python 3"
    },
    "language_info": {
      "name": "python"
    }
  },
  "cells": [
    {
      "cell_type": "markdown",
      "metadata": {
        "id": "view-in-github",
        "colab_type": "text"
      },
      "source": [
        "<a href=\"https://colab.research.google.com/github/MichaelKoinakis/StarWarsChatBot/blob/main/ChatWithChatbot.ipynb\" target=\"_parent\"><img src=\"https://colab.research.google.com/assets/colab-badge.svg\" alt=\"Open In Colab\"/></a>"
      ]
    },
    {
      "cell_type": "code",
      "metadata": {
        "id": "EIb5KseisMV5"
      },
      "source": [
        "# import necessities\n",
        "from __future__ import absolute_import\n",
        "from __future__ import division\n",
        "from __future__ import print_function\n",
        "from __future__ import unicode_literals\n",
        "\n",
        "import torch\n",
        "from torch.jit import script, trace\n",
        "import torch.nn as nn\n",
        "from torch import optim\n",
        "import torch.nn.functional as F\n",
        "import csv\n",
        "import random\n",
        "import re\n",
        "import os\n",
        "import unicodedata\n",
        "import codecs\n",
        "from io import open\n",
        "import itertools\n",
        "import math\n",
        "\n",
        "\n",
        "USE_CUDA = torch.cuda.is_available()\n",
        "device = torch.device(\"cuda\" if USE_CUDA else \"cpu\")"
      ],
      "execution_count": null,
      "outputs": []
    },
    {
      "cell_type": "code",
      "metadata": {
        "colab": {
          "base_uri": "https://localhost:8080/"
        },
        "id": "a7myDZ9MRXbx",
        "outputId": "0b631e56-d2f7-40b6-d9d0-a9650b94f7f5"
      },
      "source": [
        "device"
      ],
      "execution_count": null,
      "outputs": [
        {
          "output_type": "execute_result",
          "data": {
            "text/plain": [
              "device(type='cpu')"
            ]
          },
          "metadata": {
            "tags": []
          },
          "execution_count": 2
        }
      ]
    },
    {
      "cell_type": "code",
      "metadata": {
        "colab": {
          "base_uri": "https://localhost:8080/"
        },
        "id": "0zjOaASkW4_g",
        "outputId": "7fe45c9d-bbb8-4b3b-ee44-e1476c7fa61c"
      },
      "source": [
        "print(torch.cuda.device_count())"
      ],
      "execution_count": null,
      "outputs": [
        {
          "output_type": "stream",
          "text": [
            "0\n"
          ],
          "name": "stdout"
        }
      ]
    },
    {
      "cell_type": "code",
      "metadata": {
        "id": "aY3u7ZOhW-T0"
      },
      "source": [
        "# print(torch.cuda.get_device_name(0))"
      ],
      "execution_count": null,
      "outputs": []
    },
    {
      "cell_type": "code",
      "metadata": {
        "id": "xq7biU7GXBPU"
      },
      "source": [
        ""
      ],
      "execution_count": null,
      "outputs": []
    },
    {
      "cell_type": "code",
      "metadata": {
        "colab": {
          "base_uri": "https://localhost:8080/"
        },
        "id": "mLxSL0_XzD2r",
        "outputId": "b5aac39e-5112-46f3-b360-528e01490743"
      },
      "source": [
        "from google.colab import drive\n",
        "drive.mount('/content/drive')"
      ],
      "execution_count": null,
      "outputs": [
        {
          "output_type": "stream",
          "text": [
            "Mounted at /content/drive\n"
          ],
          "name": "stdout"
        }
      ]
    },
    {
      "cell_type": "code",
      "metadata": {
        "id": "KcLWWX-d65Gr"
      },
      "source": [
        "# To delete\n",
        "corpus_name = \"star_wars\"\n",
        "# corpus = os.path.join(\"/content/drive/My Drive/data\", corpus_name)\n",
        "filesList = os.listdir('/content/drive/My Drive/StarWarsBotData')"
      ],
      "execution_count": null,
      "outputs": []
    },
    {
      "cell_type": "code",
      "metadata": {
        "id": "w67JbKFqzDCX"
      },
      "source": [
        "containerList = []\n",
        "for file in filesList:\n",
        "  importData = open('/content/drive/My Drive/StarWarsBotData'+'/'+file, 'r', encoding='UTF-8', errors='ignore')\n",
        "  df = importData.readlines()\n",
        "  importData.close()\n",
        "  for data in df:\n",
        "    _data = data.split('\"')[-2]\n",
        "    containerList.append(_data)"
      ],
      "execution_count": null,
      "outputs": []
    },
    {
      "cell_type": "code",
      "metadata": {
        "id": "vwxz9Eng13Qb"
      },
      "source": [
        "hugeContainerList = []\n",
        "for i in range(2, 11):\n",
        "  for j in range(len(containerList) - i):\n",
        "    hugeContainerList.append(containerList[j:j+i+1])"
      ],
      "execution_count": null,
      "outputs": []
    },
    {
      "cell_type": "code",
      "metadata": {
        "id": "D3r7sBDCzEmL"
      },
      "source": [
        "# Define path to new file\n",
        "datafile = '/content/drive/My Drive/formattedStarWarsLines.txt'\n",
        "\n",
        "delimiter = '\\t'\n",
        "# Unescape the delimiter\n",
        "delimiter = str(codecs.decode(delimiter, \"unicode_escape\"))"
      ],
      "execution_count": null,
      "outputs": []
    },
    {
      "cell_type": "code",
      "metadata": {
        "colab": {
          "base_uri": "https://localhost:8080/"
        },
        "id": "UDQdgaAG3goN",
        "outputId": "3115ef3b-23c1-41d0-94f9-7f34ab1f4849"
      },
      "source": [
        "# Write new csv file\n",
        "print(\"\\nWriting newly formatted file...\")\n",
        "with open(datafile, 'w', encoding='utf-8') as outputfile:\n",
        "    writer = csv.writer(outputfile, delimiter=delimiter)\n",
        "    for pair in hugeContainerList:\n",
        "        writer.writerow(pair)"
      ],
      "execution_count": null,
      "outputs": [
        {
          "output_type": "stream",
          "text": [
            "\n",
            "Writing newly formatted file...\n"
          ],
          "name": "stdout"
        }
      ]
    },
    {
      "cell_type": "code",
      "metadata": {
        "id": "yTGG35WU3g_L"
      },
      "source": [
        "# Default word tokens\n",
        "PAD_token = 0  # Used for padding short sentences\n",
        "SOS_token = 1  # Start-of-sentence token\n",
        "EOS_token = 2  # End-of-sentence token\n",
        "\n",
        "class Voc:\n",
        "    def __init__(self, name):\n",
        "        self.name = name\n",
        "        self.trimmed = False\n",
        "        self.word2index = {}\n",
        "        self.word2count = {}\n",
        "        self.index2word = {PAD_token: \"PAD\", SOS_token: \"SOS\", EOS_token: \"EOS\"}\n",
        "        self.num_words = 3  # Count SOS, EOS, PAD\n",
        "\n",
        "    def addSentence(self, sentence):\n",
        "        for word in sentence.split(' '):\n",
        "            self.addWord(word)\n",
        "\n",
        "    def addWord(self, word):\n",
        "        if word not in self.word2index:\n",
        "            self.word2index[word] = self.num_words\n",
        "            self.word2count[word] = 1\n",
        "            self.index2word[self.num_words] = word\n",
        "            self.num_words += 1\n",
        "        else:\n",
        "            self.word2count[word] += 1\n",
        "\n",
        "    # Remove words below a certain count threshold\n",
        "    def trim(self, min_count):\n",
        "        if self.trimmed:\n",
        "            return\n",
        "        self.trimmed = True\n",
        "\n",
        "        keep_words = []\n",
        "\n",
        "        for k, v in self.word2count.items():\n",
        "            if v >= min_count:\n",
        "                keep_words.append(k)\n",
        "\n",
        "        print('keep_words {} / {} = {:.4f}'.format(\n",
        "            len(keep_words), len(self.word2index), len(keep_words) / len(self.word2index)\n",
        "        ))\n",
        "\n",
        "        # Reinitialize dictionaries\n",
        "        self.word2index = {}\n",
        "        self.word2count = {}\n",
        "        self.index2word = {PAD_token: \"PAD\", SOS_token: \"SOS\", EOS_token: \"EOS\"}\n",
        "        self.num_words = 3 # Count default tokens\n",
        "\n",
        "        for word in keep_words:\n",
        "            self.addWord(word)"
      ],
      "execution_count": null,
      "outputs": []
    },
    {
      "cell_type": "code",
      "metadata": {
        "id": "VeZU6D273hF8"
      },
      "source": [
        "MAX_LENGTH = 30  # Maximum sentence length to consider\n",
        "\n",
        "# Turn a Unicode string to plain ASCII, thanks to\n",
        "# http://stackoverflow.com/a/518232/2809427\n",
        "def unicodeToAscii(s):\n",
        "    return ''.join(\n",
        "        c for c in unicodedata.normalize('NFD', s)\n",
        "        if unicodedata.category(c) != 'Mn')"
      ],
      "execution_count": null,
      "outputs": []
    },
    {
      "cell_type": "code",
      "metadata": {
        "id": "pgC197Dk3hMr"
      },
      "source": [
        "# Lowercase, trim, and remove non-letter characters\n",
        "# Lowercase, trim, and remove non-letter characters\n",
        "def normalizeString(text):\n",
        "    text = unicodeToAscii(text.lower().strip())\n",
        "    \n",
        "    text = re.sub(r\"[\\(\\[].*?[\\)\\]]\", \"\", text)\n",
        "    \n",
        "    text = re.sub(r\"a'ight\", \"alright\", text)\n",
        "    \n",
        "    text = re.sub(r\"ain't\", \"are not\", text) # or am not/ is not/ are not/ has not/ have not/ did not\n",
        "    text = re.sub(r\"amn't\", \"am not\", text)\n",
        "    text = re.sub(r\"arencha\", \"are you not\", text)\n",
        "    text = re.sub(r\"aren't\", \"are not\", text)\n",
        "    \n",
        "    text = re.sub(r\"'bout'\", \"about\", text)\n",
        "    \n",
        "    text = re.sub(r\"can not\", \"cannot\", text)\n",
        "    text = re.sub(r\"can't\", \"cannot\", text)\n",
        "    \n",
        "    text = re.sub(r\"cap'n\", \"captain\", text)\n",
        "    \n",
        "    text = re.sub(r\"'cause'\", \"because\", text)\n",
        "    \n",
        "    text = re.sub(r\"'cept'\", \"except\", text)\n",
        "    \n",
        "    text = re.sub(r\"could've\", \"could have\", text)\n",
        "    text = re.sub(r\"couldn't\", \"could not\", text)\n",
        "    text = re.sub(r\"couldn't've\", \"could not have\", text)\n",
        "    \n",
        "    text = re.sub(r\"dammit\", \"damn it\", text)\n",
        "    text = re.sub(r\"daren't\", \"dare not\", text)\n",
        "    \n",
        "    text = re.sub(r\"didn't\", \"did not\", text)\n",
        "    text = re.sub(r\"doesn't\", \"does not\", text)\n",
        "    text = re.sub(r\"don't\", \"do not\", text)\n",
        "    text = re.sub(r\"dunno\", \"do not know\", text) # or does not\n",
        "    \n",
        "    text = re.sub(r\"d'ye\", \"do you\", text) # or did you\n",
        "    text = re.sub(r\"e'en\", \"even\", text)\n",
        "    text = re.sub(r\"e'er\", \"ever\", text)\n",
        "    text = re.sub(r\"'em\", \"them\", text)\n",
        "    \n",
        "    text = re.sub(r\"everybody's\", \"everybody is\", text)\n",
        "    text = re.sub(r\"everyone's\", \"everyone is\", text)\n",
        "    \n",
        "    text = re.sub(r\"fo'c'sle\", \"forecastle\", text)\n",
        "    \n",
        "    text = re.sub(r\"'gainst'\", \"against\", text)\n",
        "    \n",
        "    text = re.sub(r\"g'day\", \"good day\", text)\n",
        "    text = re.sub(r\"gimme\", \"give me\", text)\n",
        "    text = re.sub(r\"giv'n\", \"given\", text)\n",
        "    text = re.sub(r\"gonna\", \"going to\", text)\n",
        "    text = re.sub(r\"gon't\", \"go not\", text)\n",
        "    \n",
        "    text = re.sub(r\"hadn't\", \"had not\", text)\n",
        "    text = re.sub(r\"had've\", \"had have\", text)\n",
        "    text = re.sub(r\"hasn't\", \"has not\", text)\n",
        "    text = re.sub(r\"haven't\", \"have not\", text)\n",
        "    text = re.sub(r\"he'd\", \"he had\", text) # or he would\n",
        "    text = re.sub(r\"he'll\", \"he will\", text) # or he shall\n",
        "    text = re.sub(r\"helluva\", \"hell of a\", text)\n",
        "    text = re.sub(r\"he's\", \"he is\", text) # or he has\n",
        "    \n",
        "    text = re.sub(r\"here's\", \"here is\", text)\n",
        "    \n",
        "    text = re.sub(r\"how'd\", \"how did\", text) # or how would\n",
        "    text = re.sub(r\"howdy\", \"how do you do\", text) # or how do you fare\n",
        "    text = re.sub(r\"how'll\", \"how will\", text)\n",
        "    text = re.sub(r\"how're\", \"how are\", text)\n",
        "    text = re.sub(r\"how's\", \"how is\", text) # or how has/ how does\n",
        "    \n",
        "    text = re.sub(r\"i'd've\", \"i would have\", text)\n",
        "    text = re.sub(r\"i'd\", \"i had\", text) # or i would\n",
        "    text = re.sub(r\"i'll\", \"i will\", text) # or i shall\n",
        "    text = re.sub(r\"i'm\", \"i am\", text)\n",
        "    \n",
        "    text = re.sub(r\"imma\", \"i am about to go\", text)\n",
        "    \n",
        "    text = re.sub(r\"i'm'o\", \"i am going to\", text)\n",
        "    \n",
        "    text = re.sub(r\"innit\", \"is it not\", text)\n",
        "    \n",
        "    text = re.sub(r\"ion\", \"i do not\", text)\n",
        "    \n",
        "    text = re.sub(r\"i've\", \"i have\", text)\n",
        "    \n",
        "    text = re.sub(r\"isn't\", \"is not\", text)\n",
        "    \n",
        "    text = re.sub(r\"it'd\", \"it would\", text)\n",
        "    text = re.sub(r\"it'll\", \"it will\", text) # or it shall\n",
        "    text = re.sub(r\"it's\", \"it is\", text) # or it has\n",
        "    \n",
        "    text = re.sub(r\"iunno\", \"i do not know\", text)\n",
        "    \n",
        "    text = re.sub(r\"kinda\", \"kind of\", text)\n",
        "    \n",
        "    text = re.sub(r\"let's\", \"let us\", text)\n",
        "    \n",
        "    text = re.sub(r\"ma'am\", \"madam\", text)\n",
        "    \n",
        "    text = re.sub(r\"mayn't\", \"may not\", text)\n",
        "    text = re.sub(r\"may've\", \"may have\", text)\n",
        "    \n",
        "    text = re.sub(r\"methinks\", \"i think\", text)\n",
        "    \n",
        "    text = re.sub(r\"mightn't\", \"might not\", text)\n",
        "    text = re.sub(r\"might've\", \"might have\", text)\n",
        "    \n",
        "    text = re.sub(r\"mustn't've\", \"must not have\", text)\n",
        "    text = re.sub(r\"mustn't\", \"must not\", text)\n",
        "    text = re.sub(r\"must've\", \"must have\", text)\n",
        "    \n",
        "    text = re.sub(r\"'neath'\", \"beneath\", text)\n",
        "    text = re.sub(r\"needn't\", \"need not\", text)\n",
        "    \n",
        "    text = re.sub(r\"nal\", \"and all\", text)\n",
        "    text = re.sub(r\"ne'er\", \"never\", text)\n",
        "    \n",
        "    text = re.sub(r\"o'clock\", \"of the clock\", text)\n",
        "    text = re.sub(r\"o'er\", \"over\", text)\n",
        "    text = re.sub(r\"ol'\", \"old\", text)\n",
        "    text = re.sub(r\"oughtn't\", \"ought not\", text)\n",
        "    text = re.sub(r\"'round\", \"around\", text)\n",
        "    \n",
        "    text = re.sub(r\"shalln't\", \"shall not\", text)\n",
        "    text = re.sub(r\"shan't\", \"shall not\", text)\n",
        "   \n",
        "    text = re.sub(r\"she'd\", \"she had\", text) # or she would\n",
        "    text = re.sub(r\"she'll\", \"she will\", text) # or she shall\n",
        "    text = re.sub(r\"she's\", \"she is\", text) # or she has\n",
        "    \n",
        "    text = re.sub(r\"shouldn't've\", \"should not have\", text)\n",
        "    text = re.sub(r\"should've\", \"should have\", text)\n",
        "    text = re.sub(r\"shouldn't\", \"should not\", text)\n",
        "    \n",
        "    text = re.sub(r\"somebody's\", \"somebody has\", text) # or somebody is\n",
        "    text = re.sub(r\"someone's\", \"someone has\", text) # or someone is\n",
        "    text = re.sub(r\"something's\", \"something has\", text) # or something is\n",
        "    \n",
        "    text = re.sub(r\"so're\", \"so are\", text) # so are\n",
        "    text = re.sub(r\"so's\", \"so is\", text) # so is\n",
        "    text = re.sub(r\"so've\", \"so have\", text)\n",
        "    \n",
        "    text = re.sub(r\"that'll\", \"that will\", text) # or that shall\n",
        "    text = re.sub(r\"that're\", \"that are\", text)\n",
        "    text = re.sub(r\"that's\", \"that is\", text) # or that has\n",
        "    text = re.sub(r\"that'd\", \"that had\", text) # or that would\n",
        "    \n",
        "    text = re.sub(r\"there'd\", \"there had\", text) # or there would\n",
        "    text = re.sub(r\"there'll\", \"there will\", text) # or there shall\n",
        "    text = re.sub(r\"there're\", \"there are\", text)\n",
        "    text = re.sub(r\"there's\", \"there is\", text) # or there has\n",
        "    text = re.sub(r\"there're\", \"these are\", text)\n",
        "    \n",
        "    text = re.sub(r\"these've\", \"these have\", text)\n",
        "    \n",
        "    text = re.sub(r\"they'd\", \"they had\", text) # or they would\n",
        "    text = re.sub(r\"they'll\", \"they will\", text) # or they shall\n",
        "    text = re.sub(r\"they're\", \"they are\", text) # or they were\n",
        "    text = re.sub(r\"they've\", \"they have\", text)\n",
        "    text = re.sub(r\"this's\", \"this is\", text) # or this has\n",
        "    text = re.sub(r\"those're\", \"those are\", text)\n",
        "    text = re.sub(r\"those've\", \"those have\", text)\n",
        "    \n",
        "    text = re.sub(r\"'thout\", \"without\", text)\n",
        "    text = re.sub(r\"'till'\", \"untill\", text)\n",
        "    text = re.sub(r\"'tis'\", \"it is\", text)\n",
        "    text = re.sub(r\"to've\", \"to have\", text)\n",
        "    text = re.sub(r\"'twas'\", \"it was\", text)\n",
        "    text = re.sub(r\"'tween'\", \"between\", text)\n",
        "    text = re.sub(r\"'twere'\", \"it were\", text)\n",
        "    \n",
        "    text = re.sub(r\"wanna\", \"want to\", text)\n",
        "    text = re.sub(r\"wasn't\", \"was not\", text)\n",
        "    text = re.sub(r\"we'd've\", \"we would have\", text)\n",
        "    text = re.sub(r\"we'd\", \"we had\", text) # or we would, we did\n",
        "    text = re.sub(r\"we'll\", \"we will\", text) # or we shall\n",
        "    text = re.sub(r\"we're\", \"we are\", text)\n",
        "    text = re.sub(r\"we've\", \"we have\", text)\n",
        "    text = re.sub(r\"weren't\", \"were not\", text)\n",
        "    \n",
        "    text = re.sub(r\"whatcha\", \"what are you\", text) # or what about you\n",
        "    \n",
        "    text = re.sub(r\"what'd\", \"what did\", text)\n",
        "    text = re.sub(r\"what'll\", \"what will\", text) # or what shall\n",
        "    text = re.sub(r\"what're\", \"what are\", text) # or what were\n",
        "    text = re.sub(r\"what's\", \"what is\", text) # or what has / what is / what does\n",
        "    text = re.sub(r\"what've\", \"what have\", text)\n",
        "    \n",
        "    text = re.sub(r\"when's\", \"when is\", text) # or when has\n",
        "    \n",
        "    text = re.sub(r\"where'd\", \"where did\", text)\n",
        "    text = re.sub(r\"where'll\", \"where will\", text) # or where shall\n",
        "    text = re.sub(r\"where're\", \"where are\", text)\n",
        "    text = re.sub(r\"where's\", \"where is\", text) # or where has\n",
        "    text = re.sub(r\"where've\", \"where have\", text)\n",
        "    \n",
        "    text = re.sub(r\"which'd\", \"which had\", text) # or which would\n",
        "    text = re.sub(r\"which'll\", \"which will\", text) # or which shall\n",
        "    text = re.sub(r\"which're\", \"which are\", text)\n",
        "    text = re.sub(r\"which's\", \"which is\", text) # or which has\n",
        "    text = re.sub(r\"which've\", \"which have\", text)\n",
        "\n",
        "    text = re.sub(r\"who'd've\", \"who would have\", text)\n",
        "    text = re.sub(r\"who'd\", \"who had\", text) # or who would/ who did\n",
        "    text = re.sub(r\"who'll\", \"who will\", text) # or who shall\n",
        "    text = re.sub(r\"who're\", \"who are\", text)\n",
        "    text = re.sub(r\"who's\", \"who is\", text) # or who has\n",
        "    text = re.sub(r\"who've\", \"who have\", text)\n",
        "\n",
        "    text = re.sub(r\"why'd\", \"why did\", text)\n",
        "    text = re.sub(r\"why're\", \"why are\", text)\n",
        "    text = re.sub(r\"why's\", \"why is\", text) # or why has / why does\n",
        "    \n",
        "    text = re.sub(r\"willn't\", \"will not\", text)\n",
        "    text = re.sub(r\"won't\", \"will not\", text)\n",
        "    text = re.sub(r\"wonnot\", \"will not\", text)\n",
        "\n",
        "    text = re.sub(r\"wouldn't've\", \"would not have\", text)\n",
        "    text = re.sub(r\"wouldn't\", \"would not\", text)\n",
        "    text = re.sub(r\"would've\", \"would have\", text)\n",
        "\n",
        "    text = re.sub(r\"y'all're\", \"you all are\", text)\n",
        "    text = re.sub(r\"y'all'd'n't've\", \"you all would not have\", text)\n",
        "    text = re.sub(r\"y'all'd've\", \"you all would have\", text)\n",
        "    text = re.sub(r\"y'all\", \"you all\", text)\n",
        "    text = re.sub(r\"y'at\", \"you at\", text)\n",
        "    \n",
        "    text = re.sub(r\"yes'm\", \"yes madam\", text)\n",
        "    text = re.sub(r\"yessir\", \"yes sir\", text)\n",
        "    text = re.sub(r\"yesn't\", \"yes not\", text)\n",
        "    \n",
        "    text = re.sub(r\"you'd\", \"you had\", text) # or you would\n",
        "    text = re.sub(r\"you'll\", \"you will\", text) # or you shall\n",
        "    text = re.sub(r\"you're\", \"you are\", text)\n",
        "    text = re.sub(r\"you've\", \"you have\", text)\n",
        "\n",
        "    text = re.sub(r\"'s\", \"has\", text) # or is/ does/ us\n",
        "    text = re.sub(r\"'re\", \"were\", text)\n",
        "    text = re.sub(r\"'ve'\", \"have\", text)\n",
        "    text = re.sub(r\"'d\", \"would\", text)\n",
        "\n",
        "    text = re.sub(r\"\\.+\", \".\", text)\n",
        "    \n",
        "    text = re.sub(r\"[-()\\\"#/@;:<>{}+=~|,]\\n\", \"\", text)\n",
        "    \n",
        "    return text"
      ],
      "execution_count": null,
      "outputs": []
    },
    {
      "cell_type": "code",
      "metadata": {
        "id": "4X7jH6-fBaXs"
      },
      "source": [
        "# Read query/response pairs and return a voc object\n",
        "def readVocs(datafile, corpus_name):\n",
        "    print(\"Reading lines...\")\n",
        "    # Read the file and split into lines\n",
        "    lines = open(datafile, encoding='utf-8').\\\n",
        "        read().strip().split('\\n')\n",
        "    # Split every line into pairs and normalize\n",
        "    pairs = [[normalizeString(s) for s in l.split('\\t')] for l in lines]\n",
        "    voc = Voc(corpus_name)\n",
        "    return voc, pairs"
      ],
      "execution_count": null,
      "outputs": []
    },
    {
      "cell_type": "code",
      "metadata": {
        "id": "Jwpy2o_BBamq"
      },
      "source": [
        "# Returns True iff both sentences in a pair 'p' are under the MAX_LENGTH threshold\n",
        "def filterPair(p):\n",
        "    # Input sequences need to preserve the last word for EOS token\n",
        "    return len(p[0].split(' ')) < MAX_LENGTH and len(p[1].split(' ')) < MAX_LENGTH"
      ],
      "execution_count": null,
      "outputs": []
    },
    {
      "cell_type": "code",
      "metadata": {
        "id": "-TTqx9IrBaug"
      },
      "source": [
        "# Filter pairs using filterPair condition\n",
        "def filterPairs(pairs):\n",
        "    return [pair for pair in pairs if filterPair(pair)]"
      ],
      "execution_count": null,
      "outputs": []
    },
    {
      "cell_type": "code",
      "metadata": {
        "id": "2OVprZx9Ba0z"
      },
      "source": [
        "# Using the functions defined above, return a populated voc object and pairs list\n",
        "def loadPrepareData(corpus_name, datafile, save_dir):\n",
        "    print(\"Start preparing training data ...\")\n",
        "    voc, pairs = readVocs(datafile, corpus_name)\n",
        "    print(\"Read {!s} sentence pairs\".format(len(pairs)))\n",
        "    pairs = filterPairs(pairs)\n",
        "    print(\"Trimmed to {!s} sentence pairs\".format(len(pairs)))\n",
        "    print(\"Counting words...\")\n",
        "    for pair in pairs:\n",
        "        voc.addSentence(pair[0])\n",
        "        voc.addSentence(pair[1])\n",
        "    print(\"Counted words:\", voc.num_words)\n",
        "    return voc, pairs"
      ],
      "execution_count": null,
      "outputs": []
    },
    {
      "cell_type": "code",
      "metadata": {
        "colab": {
          "base_uri": "https://localhost:8080/"
        },
        "id": "7zatF2kZBa6D",
        "outputId": "df103a66-88c7-45ca-eb69-9cdffea03bc0"
      },
      "source": [
        "# Load/Assemble voc and pairs\n",
        "save_dir = '/content/drive/My Drive/'\n",
        "voc, pairs = loadPrepareData(corpus_name, datafile, save_dir)\n",
        "# Print some pairs to validate\n",
        "print(\"\\npairs:\")\n",
        "for pair in pairs[:10]:\n",
        "    print(pair)"
      ],
      "execution_count": null,
      "outputs": [
        {
          "output_type": "stream",
          "text": [
            "Start preparing training data ...\n",
            "Reading lines...\n",
            "Read 346221 sentence pairs\n",
            "Trimmed to 337428 sentence pairs\n",
            "Counting words...\n",
            "Counted words: 20227\n",
            "\n",
            "pairs:\n",
            "[' captain.', 'yes, sir?', ' tell them we wish to board at once.']\n",
            "['yes, sir?', ' tell them we wish to board at once.', 'yes, sir.']\n",
            "[' tell them we wish to board at once.', 'yes, sir.', ' with all due respect for the trade federati do not, the ambassodors for the supreme chancellor wish to board immediately.']\n",
            "['yes, sir.', ' with all due respect for the trade federati do not, the ambassodors for the supreme chancellor wish to board immediately.', 'yes, yes, of coarse.ahhh.as you know, our blockade is perfectly legal, and we had be happy to recieve the ambassador.happy to.']\n",
            "[' with all due respect for the trade federati do not, the ambassodors for the supreme chancellor wish to board immediately.', 'yes, yes, of coarse.ahhh.as you know, our blockade is perfectly legal, and we had be happy to recieve the ambassador.happy to.', 'they must be important if the viceroy sent one of those useless protocol gearheads to greet them.']\n",
            "['yes, yes, of coarse.ahhh.as you know, our blockade is perfectly legal, and we had be happy to recieve the ambassador.happy to.', 'they must be important if the viceroy sent one of those useless protocol gearheads to greet them.', 'i am tc-14 at your service. this way, please.']\n",
            "['they must be important if the viceroy sent one of those useless protocol gearheads to greet them.', 'i am tc-14 at your service. this way, please.', 'a republic cruiser! that is trouble.do not you think?']\n",
            "['i am tc-14 at your service. this way, please.', 'a republic cruiser! that is trouble.do not you think?', 'i am not made to think.']\n",
            "['a republic cruiser! that is trouble.do not you think?', 'i am not made to think.', 'i hope you honoured sirs with the most comfortable here. my master will be with you shortly.']\n",
            "['i am not made to think.', 'i hope you honoured sirs with the most comfortable here. my master will be with you shortly.', 'i have a bad feeling about this.']\n"
          ],
          "name": "stdout"
        }
      ]
    },
    {
      "cell_type": "code",
      "metadata": {
        "colab": {
          "base_uri": "https://localhost:8080/"
        },
        "id": "aUKznvT8Ba_p",
        "outputId": "2576ee8a-0f68-406e-a6e4-f4fc7c535979"
      },
      "source": [
        "MIN_COUNT = 5    # Minimum word count threshold for trimming\n",
        "\n",
        "def trimRareWords(voc, pairs, MIN_COUNT):\n",
        "    # Trim words used under the MIN_COUNT from the voc\n",
        "    voc.trim(MIN_COUNT)\n",
        "    # Filter out pairs with trimmed words\n",
        "    keep_pairs = []\n",
        "    for pair in pairs:\n",
        "        input_sentence = pair[0]\n",
        "        output_sentence = pair[1]\n",
        "        keep_input = True\n",
        "        keep_output = True\n",
        "        # Check input sentence\n",
        "        for word in input_sentence.split(' '):\n",
        "            if word not in voc.word2index:\n",
        "                keep_input = False\n",
        "                break\n",
        "        # Check output sentence\n",
        "        for word in output_sentence.split(' '):\n",
        "            if word not in voc.word2index:\n",
        "                keep_output = False\n",
        "                break\n",
        "\n",
        "        # Only keep pairs that do not contain trimmed word(s) in their input or output sentence\n",
        "        if keep_input and keep_output:\n",
        "            keep_pairs.append(pair)\n",
        "\n",
        "    print(\"Trimmed from {} pairs to {}, {:.4f} of total\".format(len(pairs), len(keep_pairs), len(keep_pairs) / len(pairs)))\n",
        "    return keep_pairs\n",
        "\n",
        "\n",
        "# Trim voc and pairs\n",
        "pairs = trimRareWords(voc, pairs, MIN_COUNT)"
      ],
      "execution_count": null,
      "outputs": [
        {
          "output_type": "stream",
          "text": [
            "keep_words 20222 / 20224 = 0.9999\n",
            "Trimmed from 337428 pairs to 337425, 1.0000 of total\n"
          ],
          "name": "stdout"
        }
      ]
    },
    {
      "cell_type": "code",
      "metadata": {
        "id": "YZ7z8e1d2NWe",
        "colab": {
          "base_uri": "https://localhost:8080/"
        },
        "outputId": "80e05b1d-5479-45f0-feb5-fb5fee0a9147"
      },
      "source": [
        "# From this point everything remains the same.\n",
        "pairs[:20]"
      ],
      "execution_count": null,
      "outputs": [
        {
          "output_type": "execute_result",
          "data": {
            "text/plain": [
              "[[' captain.', 'yes, sir?', ' tell them we wish to board at once.'],\n",
              " ['yes, sir?', ' tell them we wish to board at once.', 'yes, sir.'],\n",
              " [' tell them we wish to board at once.',\n",
              "  'yes, sir.',\n",
              "  ' with all due respect for the trade federati do not, the ambassodors for the supreme chancellor wish to board immediately.'],\n",
              " ['yes, sir.',\n",
              "  ' with all due respect for the trade federati do not, the ambassodors for the supreme chancellor wish to board immediately.',\n",
              "  'yes, yes, of coarse.ahhh.as you know, our blockade is perfectly legal, and we had be happy to recieve the ambassador.happy to.'],\n",
              " [' with all due respect for the trade federati do not, the ambassodors for the supreme chancellor wish to board immediately.',\n",
              "  'yes, yes, of coarse.ahhh.as you know, our blockade is perfectly legal, and we had be happy to recieve the ambassador.happy to.',\n",
              "  'they must be important if the viceroy sent one of those useless protocol gearheads to greet them.'],\n",
              " ['yes, yes, of coarse.ahhh.as you know, our blockade is perfectly legal, and we had be happy to recieve the ambassador.happy to.',\n",
              "  'they must be important if the viceroy sent one of those useless protocol gearheads to greet them.',\n",
              "  'i am tc-14 at your service. this way, please.'],\n",
              " ['they must be important if the viceroy sent one of those useless protocol gearheads to greet them.',\n",
              "  'i am tc-14 at your service. this way, please.',\n",
              "  'a republic cruiser! that is trouble.do not you think?'],\n",
              " ['i am tc-14 at your service. this way, please.',\n",
              "  'a republic cruiser! that is trouble.do not you think?',\n",
              "  'i am not made to think.'],\n",
              " ['a republic cruiser! that is trouble.do not you think?',\n",
              "  'i am not made to think.',\n",
              "  'i hope you honoured sirs with the most comfortable here. my master will be with you shortly.'],\n",
              " ['i am not made to think.',\n",
              "  'i hope you honoured sirs with the most comfortable here. my master will be with you shortly.',\n",
              "  'i have a bad feeling about this.'],\n",
              " ['i hope you honoured sirs with the most comfortable here. my master will be with you shortly.',\n",
              "  'i have a bad feeling about this.',\n",
              "  'i do not sense anything.'],\n",
              " ['i have a bad feeling about this.',\n",
              "  'i do not sense anything.',\n",
              "  'it is not about the missi do not, master, it is somethging.elsewhere.elusive.'],\n",
              " ['i do not sense anything.',\n",
              "  'it is not about the missi do not, master, it is somethging.elsewhere.elusive.',\n",
              "  'do not center on your anxiety, obi-wan. keep your concentrati do not here and now where it belongs.'],\n",
              " ['it is not about the missi do not, master, it is somethging.elsewhere.elusive.',\n",
              "  'do not center on your anxiety, obi-wan. keep your concentrati do not here and now where it belongs.',\n",
              "  'master yoda says i should be mindful of the future.'],\n",
              " ['do not center on your anxiety, obi-wan. keep your concentrati do not here and now where it belongs.',\n",
              "  'master yoda says i should be mindful of the future.',\n",
              "  '.but not at the expense of the moment. be mindful of the living force, my young padawan.'],\n",
              " ['master yoda says i should be mindful of the future.',\n",
              "  '.but not at the expense of the moment. be mindful of the living force, my young padawan.',\n",
              "  'yes, master.how do you think the trade viceroy will deal with the chancellorhas demands?'],\n",
              " ['.but not at the expense of the moment. be mindful of the living force, my young padawan.',\n",
              "  'yes, master.how do you think the trade viceroy will deal with the chancellorhas demands?',\n",
              "  'these federati do not types are cowards. the negotiati do nots will be short.'],\n",
              " ['yes, master.how do you think the trade viceroy will deal with the chancellorhas demands?',\n",
              "  'these federati do not types are cowards. the negotiati do nots will be short.',\n",
              "  ' what?!? what did you say?'],\n",
              " ['these federati do not types are cowards. the negotiati do nots will be short.',\n",
              "  ' what?!? what did you say?',\n",
              "  'the ambassadors are jedi knights, i believe.'],\n",
              " [' what?!? what did you say?',\n",
              "  'the ambassadors are jedi knights, i believe.',\n",
              "  'i knew it! they were sent to force a settlement, eh. blind me, we are done for!']]"
            ]
          },
          "metadata": {
            "tags": []
          },
          "execution_count": 20
        }
      ]
    },
    {
      "cell_type": "code",
      "metadata": {
        "id": "O3Qt4zoNBbEY"
      },
      "source": [
        "def indexesFromSentence(voc, sentence):\n",
        "    return [voc.word2index[word] for word in sentence.split(' ')] + [EOS_token]"
      ],
      "execution_count": null,
      "outputs": []
    },
    {
      "cell_type": "code",
      "metadata": {
        "id": "HTiBVEQjBbJy"
      },
      "source": [
        "def zeroPadding(l, fillvalue=PAD_token):\n",
        "    return list(itertools.zip_longest(*l, fillvalue=fillvalue))"
      ],
      "execution_count": null,
      "outputs": []
    },
    {
      "cell_type": "code",
      "metadata": {
        "id": "0vwaE-4oBbQY"
      },
      "source": [
        "def binaryMatrix(l, value=PAD_token):\n",
        "    m = []\n",
        "    for i, seq in enumerate(l):\n",
        "        m.append([])\n",
        "        for token in seq:\n",
        "            if token == PAD_token:\n",
        "                m[i].append(0)\n",
        "            else:\n",
        "                m[i].append(1)\n",
        "    return m"
      ],
      "execution_count": null,
      "outputs": []
    },
    {
      "cell_type": "code",
      "metadata": {
        "id": "a8I8vs5X3hY7"
      },
      "source": [
        "# Returns padded input sequence tensor and lengths\n",
        "def inputVar(l, voc):\n",
        "    indexes_batch = [indexesFromSentence(voc, sentence) for sentence in l]\n",
        "    lengths = torch.tensor([len(indexes) for indexes in indexes_batch])\n",
        "    padList = zeroPadding(indexes_batch)\n",
        "    padVar = torch.LongTensor(padList)\n",
        "    return padVar, lengths"
      ],
      "execution_count": null,
      "outputs": []
    },
    {
      "cell_type": "code",
      "metadata": {
        "id": "PseTVKYK3hkL"
      },
      "source": [
        "# Returns padded target sequence tensor, padding mask, and max target length\n",
        "def outputVar(l, voc):\n",
        "    indexes_batch = [indexesFromSentence(voc, sentence) for sentence in l]\n",
        "    max_target_len = max([len(indexes) for indexes in indexes_batch])\n",
        "    padList = zeroPadding(indexes_batch)\n",
        "    mask = binaryMatrix(padList)\n",
        "    mask = torch.ByteTensor(mask)\n",
        "    padVar = torch.LongTensor(padList)\n",
        "    return padVar, mask, max_target_len"
      ],
      "execution_count": null,
      "outputs": []
    },
    {
      "cell_type": "code",
      "metadata": {
        "id": "8ZJxwh5I6InU"
      },
      "source": [
        "# Returns all items for a given batch of pairs\n",
        "def batch2TrainData(voc, pair_batch):\n",
        "    pair_batch.sort(key=lambda x: len(x[0].split(\" \")), reverse=True)\n",
        "    input_batch, output_batch = [], []\n",
        "    for pair in pair_batch:\n",
        "        input_batch.append(pair[0])\n",
        "        output_batch.append(pair[1])\n",
        "    inp, lengths = inputVar(input_batch, voc)\n",
        "    output, mask, max_target_len = outputVar(output_batch, voc)\n",
        "    return inp, lengths, output, mask, max_target_len"
      ],
      "execution_count": null,
      "outputs": []
    },
    {
      "cell_type": "code",
      "metadata": {
        "id": "2aL2essKOUO2"
      },
      "source": [
        "# Example for validation\n",
        "small_batch_size = 5\n",
        "batches = batch2TrainData(voc, [random.choice(pairs) for _ in range(small_batch_size)])\n",
        "input_variable, lengths, target_variable, mask, max_target_len = batches"
      ],
      "execution_count": null,
      "outputs": []
    },
    {
      "cell_type": "code",
      "metadata": {
        "colab": {
          "base_uri": "https://localhost:8080/"
        },
        "id": "usoVxEE6OWvf",
        "outputId": "52e26cec-69d7-4431-a05d-e4de6607460a"
      },
      "source": [
        "print(\"input_variable:\", input_variable)\n",
        "print(\"lengths:\", lengths)\n",
        "print(\"target_variable:\", target_variable)\n",
        "print(\"mask:\", mask)\n",
        "print(\"max_target_len:\", max_target_len)"
      ],
      "execution_count": null,
      "outputs": [
        {
          "output_type": "stream",
          "text": [
            "input_variable: tensor([[  124,   448,    36,  2393, 14778],\n",
            "        [  126,   651,    70,     2,     2],\n",
            "        [   21,    62, 12398,     0,     0],\n",
            "        [ 3113,  2732, 12399,     0,     0],\n",
            "        [ 6117,    24,     2,     0,     0],\n",
            "        [    9,   173,     0,     0,     0],\n",
            "        [ 1430,     2,     0,     0,     0],\n",
            "        [  230,     0,     0,     0,     0],\n",
            "        [ 3683,     0,     0,     0,     0],\n",
            "        [    2,     0,     0,     0,     0]])\n",
            "lengths: tensor([10,  7,  5,  2,  2])\n",
            "target_variable: tensor([[    9,   105,    70,   166, 11839],\n",
            "        [   86,    36,    36,  4608, 11840],\n",
            "        [  147,    62,  2664,   771,  4166],\n",
            "        [  271,  2732,     2,     2,     2],\n",
            "        [ 4635,    24,     0,     0,     0],\n",
            "        [    2,   315,     0,     0,     0],\n",
            "        [    0,     2,     0,     0,     0]])\n",
            "mask: tensor([[1, 1, 1, 1, 1],\n",
            "        [1, 1, 1, 1, 1],\n",
            "        [1, 1, 1, 1, 1],\n",
            "        [1, 1, 1, 1, 1],\n",
            "        [1, 1, 0, 0, 0],\n",
            "        [1, 1, 0, 0, 0],\n",
            "        [0, 1, 0, 0, 0]], dtype=torch.uint8)\n",
            "max_target_len: 7\n"
          ],
          "name": "stdout"
        }
      ]
    },
    {
      "cell_type": "code",
      "metadata": {
        "id": "jpTawucBOYg3"
      },
      "source": [
        "# The Encoder\n",
        "\n",
        "class EncoderRNN(nn.Module):\n",
        "    def __init__(self, hidden_size, embedding, n_layers=1, dropout=0):\n",
        "        super(EncoderRNN, self).__init__()\n",
        "        self.n_layers = n_layers\n",
        "        self.hidden_size = hidden_size\n",
        "        self.embedding = embedding\n",
        "\n",
        "        # Initialize GRU; the input_size and hidden_size params are both set to 'hidden_size'\n",
        "        #   because our input size is a word embedding with number of features == hidden_size\n",
        "        self.gru = nn.GRU(hidden_size, hidden_size, n_layers,\n",
        "                          dropout=(0 if n_layers == 1 else dropout), bidirectional=True)\n",
        "\n",
        "    def forward(self, input_seq, input_lengths, hidden=None):\n",
        "        # Convert word indexes to embeddings\n",
        "        embedded = self.embedding(input_seq)\n",
        "        # Pack padded batch of sequences for RNN module\n",
        "        packed = torch.nn.utils.rnn.pack_padded_sequence(embedded, input_lengths)\n",
        "        # Forward pass through GRU\n",
        "        outputs, hidden = self.gru(packed, hidden)\n",
        "        # Unpack padding\n",
        "        outputs, _ = torch.nn.utils.rnn.pad_packed_sequence(outputs)\n",
        "        # Sum bidirectional GRU outputs\n",
        "        outputs = outputs[:, :, :self.hidden_size] + outputs[:, : ,self.hidden_size:]\n",
        "        # Return output and final hidden state\n",
        "        return outputs, hidden"
      ],
      "execution_count": null,
      "outputs": []
    },
    {
      "cell_type": "code",
      "metadata": {
        "id": "5_k0h0AUOjje"
      },
      "source": [
        "# The Luong attention layer\n",
        "\n",
        "class Attn(torch.nn.Module):\n",
        "    def __init__(self, method, hidden_size):\n",
        "        super(Attn, self).__init__()\n",
        "        self.method = method\n",
        "        if self.method not in ['dot', 'general', 'concat']:\n",
        "            raise ValueError(self.method, \"is not an appropriate attention method.\")\n",
        "        self.hidden_size = hidden_size\n",
        "        if self.method == 'general':\n",
        "            self.attn = torch.nn.Linear(self.hidden_size, hidden_size)\n",
        "        elif self.method == 'concat':\n",
        "            self.attn = torch.nn.Linear(self.hidden_size * 2, hidden_size)\n",
        "            self.v = torch.nn.Parameter(torch.FloatTensor(hidden_size))\n",
        "\n",
        "    def dot_score(self, hidden, encoder_output):\n",
        "        return torch.sum(hidden * encoder_output, dim=2)\n",
        "\n",
        "    def general_score(self, hidden, encoder_output):\n",
        "        energy = self.attn(encoder_output)\n",
        "        return torch.sum(hidden * energy, dim=2)\n",
        "\n",
        "    def concat_score(self, hidden, encoder_output):\n",
        "        energy = self.attn(torch.cat((hidden.expand(encoder_output.size(0), -1, -1), encoder_output), 2)).tanh()\n",
        "        return torch.sum(self.v * energy, dim=2)\n",
        "\n",
        "    def forward(self, hidden, encoder_outputs):\n",
        "        # Calculate the attention weights (energies) based on the given method\n",
        "        if self.method == 'general':\n",
        "            attn_energies = self.general_score(hidden, encoder_outputs)\n",
        "        elif self.method == 'concat':\n",
        "            attn_energies = self.concat_score(hidden, encoder_outputs)\n",
        "        elif self.method == 'dot':\n",
        "            attn_energies = self.dot_score(hidden, encoder_outputs)\n",
        "\n",
        "        # Transpose max_length and batch_size dimensions\n",
        "        attn_energies = attn_energies.t()\n",
        "\n",
        "        # Return the softmax normalized probability scores (with added dimension)\n",
        "        return F.softmax(attn_energies, dim=1).unsqueeze(1)"
      ],
      "execution_count": null,
      "outputs": []
    },
    {
      "cell_type": "code",
      "metadata": {
        "id": "xq7DO8_WOuWP"
      },
      "source": [
        "class LuongAttnDecoderRNN(nn.Module):\n",
        "    def __init__(self, attn_model, embedding, hidden_size, output_size, n_layers=1, dropout=0.1):\n",
        "        super(LuongAttnDecoderRNN, self).__init__()\n",
        "\n",
        "        # Keep for reference\n",
        "        self.attn_model = attn_model\n",
        "        self.hidden_size = hidden_size\n",
        "        self.output_size = output_size\n",
        "        self.n_layers = n_layers\n",
        "        self.dropout = dropout\n",
        "\n",
        "        # Define layers\n",
        "        self.embedding = embedding\n",
        "        self.embedding_dropout = nn.Dropout(dropout)\n",
        "        self.gru = nn.GRU(hidden_size, hidden_size, n_layers, dropout=(0 if n_layers == 1 else dropout))\n",
        "        self.concat = nn.Linear(hidden_size * 2, hidden_size)\n",
        "        self.out = nn.Linear(hidden_size, output_size)\n",
        "\n",
        "        self.attn = Attn(attn_model, hidden_size)\n",
        "\n",
        "    def forward(self, input_step, last_hidden, encoder_outputs):\n",
        "        # Note: we run this one step (word) at a time\n",
        "        # Get embedding of current input word\n",
        "        embedded = self.embedding(input_step)\n",
        "        embedded = self.embedding_dropout(embedded)\n",
        "        # Forward through unidirectional GRU\n",
        "        rnn_output, hidden = self.gru(embedded, last_hidden)\n",
        "        # Calculate attention weights from the current GRU output\n",
        "        attn_weights = self.attn(rnn_output, encoder_outputs)\n",
        "        # Multiply attention weights to encoder outputs to get new \"weighted sum\" context vector\n",
        "        context = attn_weights.bmm(encoder_outputs.transpose(0, 1))\n",
        "        # Concatenate weighted context vector and GRU output using Luong eq. 5\n",
        "        rnn_output = rnn_output.squeeze(0)\n",
        "        context = context.squeeze(1)\n",
        "        concat_input = torch.cat((rnn_output, context), 1)\n",
        "        concat_output = torch.tanh(self.concat(concat_input))\n",
        "        # Predict next word using Luong eq. 6\n",
        "        output = self.out(concat_output)\n",
        "        output = F.softmax(output, dim=1)\n",
        "        # Return output and final hidden state\n",
        "        return output, hidden"
      ],
      "execution_count": null,
      "outputs": []
    },
    {
      "cell_type": "code",
      "metadata": {
        "id": "8PV0Xk9hO6oQ"
      },
      "source": [
        "# Masked Loss\n",
        "\n",
        "def maskNLLLoss(inp, target, mask):\n",
        "    nTotal = mask.sum()\n",
        "    crossEntropy = -torch.log(torch.gather(inp, 1, target.view(-1, 1)))\n",
        "    loss = crossEntropy.masked_select(mask).mean()\n",
        "    loss = loss.to(device)\n",
        "    return loss, nTotal.item()"
      ],
      "execution_count": null,
      "outputs": []
    },
    {
      "cell_type": "code",
      "metadata": {
        "id": "u7sxIY12O6-I"
      },
      "source": [
        "# The training process\n",
        "\n",
        "def train(input_variable, lengths, target_variable, mask, max_target_len, encoder, decoder, embedding,\n",
        "          encoder_optimizer, decoder_optimizer, batch_size, clip, max_length=MAX_LENGTH):\n",
        "\n",
        "    # Zero gradients\n",
        "    encoder_optimizer.zero_grad()\n",
        "    decoder_optimizer.zero_grad()\n",
        "\n",
        "    # Set device options\n",
        "    input_variable = input_variable.to(device)\n",
        "    lengths = lengths.to(device)\n",
        "    target_variable = target_variable.to(device)\n",
        "    mask = mask.to(device)\n",
        "\n",
        "    # Initialize variables\n",
        "    loss = 0\n",
        "    print_losses = []\n",
        "    n_totals = 0\n",
        "\n",
        "    # Forward pass through encoder\n",
        "    encoder_outputs, encoder_hidden = encoder(input_variable, lengths)\n",
        "\n",
        "    # Create initial decoder input (start with SOS tokens for each sentence)\n",
        "    decoder_input = torch.LongTensor([[SOS_token for _ in range(batch_size)]])\n",
        "    decoder_input = decoder_input.to(device)\n",
        "\n",
        "    # Set initial decoder hidden state to the encoder's final hidden state\n",
        "    decoder_hidden = encoder_hidden[:decoder.n_layers]\n",
        "\n",
        "    # Determine if we are using teacher forcing this iteration\n",
        "    use_teacher_forcing = True if random.random() < teacher_forcing_ratio else False\n",
        "\n",
        "    # Forward batch of sequences through decoder one time step at a time\n",
        "    if use_teacher_forcing:\n",
        "        for t in range(max_target_len):\n",
        "            decoder_output, decoder_hidden = decoder(\n",
        "                decoder_input, decoder_hidden, encoder_outputs\n",
        "            )\n",
        "            # Teacher forcing: next input is current target\n",
        "            decoder_input = target_variable[t].view(1, -1)\n",
        "            # Calculate and accumulate loss\n",
        "            mask_loss, nTotal = maskNLLLoss(decoder_output, target_variable[t], mask[t])\n",
        "            loss += mask_loss\n",
        "            print_losses.append(mask_loss.item() * nTotal)\n",
        "            n_totals += nTotal\n",
        "    else:\n",
        "        for t in range(max_target_len):\n",
        "            decoder_output, decoder_hidden = decoder(\n",
        "                decoder_input, decoder_hidden, encoder_outputs\n",
        "            )\n",
        "            # No teacher forcing: next input is decoder's own current output\n",
        "            _, topi = decoder_output.topk(1)\n",
        "            decoder_input = torch.LongTensor([[topi[i][0] for i in range(batch_size)]])\n",
        "            decoder_input = decoder_input.to(device)\n",
        "            # Calculate and accumulate loss\n",
        "            mask_loss, nTotal = maskNLLLoss(decoder_output, target_variable[t], mask[t])\n",
        "            loss += mask_loss\n",
        "            print_losses.append(mask_loss.item() * nTotal)\n",
        "            n_totals += nTotal\n",
        "\n",
        "    # Perform backpropatation\n",
        "    loss.backward()\n",
        "\n",
        "    # Clip gradients: gradients are modified in place\n",
        "    _ = torch.nn.utils.clip_grad_norm_(encoder.parameters(), clip)\n",
        "    _ = torch.nn.utils.clip_grad_norm_(decoder.parameters(), clip)\n",
        "\n",
        "    # Adjust model weights\n",
        "    encoder_optimizer.step()\n",
        "    decoder_optimizer.step()\n",
        "\n",
        "    return sum(print_losses) / n_totals"
      ],
      "execution_count": null,
      "outputs": []
    },
    {
      "cell_type": "code",
      "metadata": {
        "id": "ecPLxuvlO7HJ"
      },
      "source": [
        "# Training iterations\n",
        "\n",
        "def trainIters(model_name, voc, pairs, encoder, decoder, encoder_optimizer, decoder_optimizer, embedding, encoder_n_layers, decoder_n_layers, save_dir, n_iteration, batch_size, print_every, save_every, clip, corpus_name, loadFilename):\n",
        "\n",
        "    # Load batches for each iteration\n",
        "    training_batches = [batch2TrainData(voc, [random.choice(pairs) for _ in range(batch_size)])\n",
        "                      for _ in range(n_iteration)]\n",
        "\n",
        "    # Initializations\n",
        "    print('Initializing ...')\n",
        "    start_iteration = 1\n",
        "    print_loss = 0\n",
        "    if loadFilename:\n",
        "        start_iteration = checkpoint['iteration'] + 1\n",
        "\n",
        "    # Training loop\n",
        "    print(\"Training...\")\n",
        "    for iteration in range(start_iteration, n_iteration + 1):\n",
        "        training_batch = training_batches[iteration - 1]\n",
        "        # Extract fields from batch\n",
        "        input_variable, lengths, target_variable, mask, max_target_len = training_batch\n",
        "\n",
        "        # Run a training iteration with batch\n",
        "        loss = train(input_variable, lengths, target_variable, mask, max_target_len, encoder,\n",
        "                     decoder, embedding, encoder_optimizer, decoder_optimizer, batch_size, clip)\n",
        "        print_loss += loss\n",
        "\n",
        "        # Print progress\n",
        "        if iteration % print_every == 0:\n",
        "            print_loss_avg = print_loss / print_every\n",
        "            print(\"Iteration: {}; Percent complete: {:.1f}%; Average loss: {:.4f}\".format(iteration, iteration / n_iteration * 100, print_loss_avg))\n",
        "            print_loss = 0\n",
        "\n",
        "        # Possible error issues below, due to the os.path\n",
        "        # Save checkpoint\n",
        "        if (iteration % save_every == 0):\n",
        "            directory = os.path.join(save_dir, model_name, corpus_name, '{}-{}_{}'.format(encoder_n_layers, decoder_n_layers, hidden_size))\n",
        "            if not os.path.exists(directory):\n",
        "                os.makedirs(directory)\n",
        "            torch.save({\n",
        "                'iteration': iteration,\n",
        "                'en': encoder.state_dict(),\n",
        "                'de': decoder.state_dict(),\n",
        "                'en_opt': encoder_optimizer.state_dict(),\n",
        "                'de_opt': decoder_optimizer.state_dict(),\n",
        "                'loss': loss,\n",
        "                'voc_dict': voc.__dict__,\n",
        "                'embedding': embedding.state_dict()\n",
        "            }, os.path.join(directory, '{}_{}.tar'.format(iteration, 'checkpoint')))"
      ],
      "execution_count": null,
      "outputs": []
    },
    {
      "cell_type": "code",
      "metadata": {
        "id": "xYHiHRGvO7aA"
      },
      "source": [
        "# The GreedySearchDecoder\n",
        "\n",
        "class GreedySearchDecoder(nn.Module):\n",
        "    def __init__(self, encoder, decoder):\n",
        "        super(GreedySearchDecoder, self).__init__()\n",
        "        self.encoder = encoder\n",
        "        self.decoder = decoder\n",
        "\n",
        "    def forward(self, input_seq, input_length, max_length):\n",
        "        # Forward input through encoder model\n",
        "        encoder_outputs, encoder_hidden = self.encoder(input_seq, input_length)\n",
        "        # Prepare encoder's final hidden layer to be first hidden input to the decoder\n",
        "        decoder_hidden = encoder_hidden[:decoder.n_layers]\n",
        "        # Initialize decoder input with SOS_token\n",
        "        decoder_input = torch.ones(1, 1, dtype=torch.long) * SOS_token\n",
        "        # Initialize tensors to append decoded words to\n",
        "        all_tokens = torch.zeros(0, dtype=torch.long)\n",
        "        all_scores = torch.zeros(0)\n",
        "        # Iteratively decode one word token at a time\n",
        "        for _ in range(max_length):\n",
        "            # Forward pass through decoder\n",
        "            decoder_output, decoder_hidden = self.decoder(decoder_input, decoder_hidden, encoder_outputs)\n",
        "            # Obtain most likely word token and its softmax score\n",
        "            decoder_scores, decoder_input = torch.max(decoder_output, dim=1)\n",
        "            # Record token and score\n",
        "            all_tokens = torch.cat((all_tokens, decoder_input), dim=0)\n",
        "            all_scores = torch.cat((all_scores, decoder_scores), dim=0)\n",
        "            # Prepare current token to be next decoder input (add a dimension)\n",
        "            decoder_input = torch.unsqueeze(decoder_input, 0)\n",
        "        # Return collections of word tokens and scores\n",
        "        return all_tokens, all_scores"
      ],
      "execution_count": null,
      "outputs": []
    },
    {
      "cell_type": "code",
      "metadata": {
        "id": "X0K5b48QPbdG"
      },
      "source": [
        "# Text evaluation step\n",
        "\n",
        "def evaluate(encoder, decoder, searcher, voc, sentence, max_length=MAX_LENGTH):\n",
        "    ### Format input sentence as a batch\n",
        "    # words -> indexes\n",
        "    indexes_batch = [indexesFromSentence(voc, sentence)]\n",
        "    # Create lengths tensor\n",
        "    lengths = torch.tensor([len(indexes) for indexes in indexes_batch])\n",
        "    # Transpose dimensions of batch to match models' expectations\n",
        "    input_batch = torch.LongTensor(indexes_batch).transpose(0, 1)\n",
        "    # Use appropriate device\n",
        "    input_batch = input_batch.to(device)\n",
        "    lengths = lengths.to(device)\n",
        "    # Decode sentence with searcher\n",
        "    tokens, scores = searcher(input_batch, lengths, max_length)\n",
        "    # indexes -> words\n",
        "    decoded_words = [voc.index2word[token.item()] for token in tokens]\n",
        "    return decoded_words\n",
        "\n",
        "\n",
        "def evaluateInput(encoder, decoder, searcher, voc):\n",
        "    input_sentence = ''\n",
        "    while(1):\n",
        "        try:\n",
        "            # Get input sentence\n",
        "            input_sentence = input('> ')\n",
        "            # Check if it is quit case\n",
        "            if input_sentence == 'q' or input_sentence == 'quit': break\n",
        "            # Normalize sentence\n",
        "            input_sentence = normalizeString(input_sentence)\n",
        "            # Evaluate sentence\n",
        "            output_words = evaluate(encoder, decoder, searcher, voc, input_sentence)\n",
        "            # Format and print response sentence\n",
        "            output_words[:] = [x for x in output_words if not (x == 'EOS' or x == 'PAD')]\n",
        "            print('Bot:', ' '.join(output_words))\n",
        "\n",
        "        except KeyError:\n",
        "            print(\"Error: Encountered unknown word.\")"
      ],
      "execution_count": null,
      "outputs": []
    },
    {
      "cell_type": "code",
      "metadata": {
        "colab": {
          "base_uri": "https://localhost:8080/"
        },
        "id": "DWssCPemPhcX",
        "outputId": "75fdbc62-d3a2-4bf8-9fc3-f3c109a00182"
      },
      "source": [
        "# Model...Assemble!\n",
        "# Configure models\n",
        "model_name = 'star_wars_model'\n",
        "#attn_model = 'dot'\n",
        "attn_model = 'general'\n",
        "#attn_model = 'concat'\n",
        "hidden_size = 500\n",
        "encoder_n_layers = 8\n",
        "decoder_n_layers = 8\n",
        "dropout = 0.1\n",
        "batch_size = 128\n",
        "\n",
        "# Set checkpoint to load from; set to None if starting from scratch\n",
        "# loadFilename = None\n",
        "checkpoint_iter = 16000\n",
        "loadFilename = '/content/drive/My Drive/star_wars_model/star_wars/8-8_500/attention_general.tar'\n",
        "\n",
        "\n",
        "# Load model if a loadFilename is provided\n",
        "if loadFilename:\n",
        "    # If loading on same machine the model was trained on\n",
        "    # checkpoint = torch.load(loadFilename)\n",
        "    # If loading a model trained on GPU to CPU\n",
        "    checkpoint = torch.load(loadFilename, map_location=torch.device('cpu'))\n",
        "    encoder_sd = checkpoint['en']\n",
        "    decoder_sd = checkpoint['de']\n",
        "    encoder_optimizer_sd = checkpoint['en_opt']\n",
        "    decoder_optimizer_sd = checkpoint['de_opt']\n",
        "    embedding_sd = checkpoint['embedding']\n",
        "    voc.__dict__ = checkpoint['voc_dict']\n",
        "\n",
        "\n",
        "print('Building encoder and decoder ...')\n",
        "# Initialize word embeddings\n",
        "embedding = nn.Embedding(voc.num_words, hidden_size)\n",
        "if loadFilename:\n",
        "    embedding.load_state_dict(embedding_sd)\n",
        "# Initialize encoder & decoder models\n",
        "encoder = EncoderRNN(hidden_size, embedding, encoder_n_layers, dropout)\n",
        "decoder = LuongAttnDecoderRNN(attn_model, embedding, hidden_size, voc.num_words, decoder_n_layers, dropout)\n",
        "if loadFilename:\n",
        "    encoder.load_state_dict(encoder_sd)\n",
        "    decoder.load_state_dict(decoder_sd)\n",
        "# Use appropriate device\n",
        "encoder = encoder.to(device)\n",
        "decoder = decoder.to(device)\n",
        "print('Models built and ready to go!')\n"
      ],
      "execution_count": null,
      "outputs": [
        {
          "output_type": "stream",
          "text": [
            "Building encoder and decoder ...\n",
            "Models built and ready to go!\n"
          ],
          "name": "stdout"
        }
      ]
    },
    {
      "cell_type": "code",
      "metadata": {
        "id": "CbchVIeEQ0MS",
        "colab": {
          "base_uri": "https://localhost:8080/"
        },
        "outputId": "46278c77-7c63-4a5c-ef1d-7cc36a35b9f7"
      },
      "source": [
        "# Model Training\n",
        "\n",
        "# Configure training/optimization\n",
        "clip = 50.0\n",
        "teacher_forcing_ratio = 1.0\n",
        "learning_rate = 0.0001\n",
        "decoder_learning_ratio = 5.0\n",
        "n_iteration = 16000\n",
        "print_every = 500\n",
        "save_every = 16000\n",
        "\n",
        "# Ensure dropout layers are in train mode\n",
        "encoder.train()\n",
        "decoder.train()\n",
        "\n",
        "# Initialize optimizers\n",
        "print('Building optimizers ...')\n",
        "encoder_optimizer = optim.Adam(encoder.parameters(), lr=learning_rate)\n",
        "decoder_optimizer = optim.Adam(decoder.parameters(), lr=learning_rate * decoder_learning_ratio)\n",
        "if loadFilename:\n",
        "    encoder_optimizer.load_state_dict(encoder_optimizer_sd)\n",
        "    decoder_optimizer.load_state_dict(decoder_optimizer_sd)\n",
        "\n",
        "# Run training iterations\n",
        "# print(\"Starting Training!\")\n",
        "# trainIters(model_name, voc, pairs, encoder, decoder, encoder_optimizer, decoder_optimizer,\n",
        "#           embedding, encoder_n_layers, decoder_n_layers, save_dir, n_iteration, batch_size,\n",
        "#           print_every, save_every, clip, corpus_name, loadFilename)"
      ],
      "execution_count": null,
      "outputs": [
        {
          "output_type": "stream",
          "text": [
            "Building optimizers ...\n"
          ],
          "name": "stdout"
        }
      ]
    },
    {
      "cell_type": "code",
      "metadata": {
        "id": "Pm-DvJ1CsGFw"
      },
      "source": [
        "# Evaluate decoder and encoder\n",
        "# Set dropout layers to eval mode\n",
        "encoder.eval()\n",
        "decoder.eval()\n",
        "\n",
        "# Initialize search module\n",
        "searcher = GreedySearchDecoder(encoder, decoder)"
      ],
      "execution_count": null,
      "outputs": []
    },
    {
      "cell_type": "code",
      "metadata": {
        "id": "pLVHW4WMsLHt",
        "colab": {
          "base_uri": "https://localhost:8080/"
        },
        "outputId": "7d672560-7cba-4427-e6c9-c8657af52700"
      },
      "source": [
        "# Implementation\n",
        "# Begin chatting (uncomment and run the following line to begin)\n",
        "evaluateInput(encoder, decoder, searcher, voc)"
      ],
      "execution_count": null,
      "outputs": [
        {
          "output_type": "stream",
          "text": [
            "> ηο\n",
            "Error: Encountered unknown word.\n",
            "> q\n"
          ],
          "name": "stdout"
        }
      ]
    },
    {
      "cell_type": "code",
      "metadata": {
        "id": "kJX_MUOzsMWj"
      },
      "source": [
        ""
      ],
      "execution_count": null,
      "outputs": []
    },
    {
      "cell_type": "code",
      "metadata": {
        "id": "SITQ8SAu2JX3"
      },
      "source": [
        ""
      ],
      "execution_count": null,
      "outputs": []
    }
  ]
}